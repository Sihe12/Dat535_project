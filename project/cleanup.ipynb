{
 "cells": [
  {
   "cell_type": "code",
   "execution_count": null,
   "metadata": {
    "vscode": {
     "languageId": "plaintext"
    }
   },
   "outputs": [],
   "source": [
    "from pyspark.sql import SparkSession\n",
    "\n",
    "# Create a Spark session\n",
    "spark = SparkSession.builder.appName(\"CleanupJob\").getOrCreate()\n",
    "\n",
    "# HDFS path to checkpoints\n",
    "hdfs_path = \"/tmp/lstm_checkpoints\"\n",
    "\n",
    "# Get the list of files in the directory\n",
    "files = spark.sparkContext._jvm.org.apache.hadoop.fs.FileSystem.get(\n",
    "    spark.sparkContext._jsc.hadoopConfiguration()\n",
    ").listStatus(\n",
    "    spark._jvm.org.apache.hadoop.fs.Path(hdfs_path)\n",
    ")\n",
    "\n",
    "# Delete all .h5 files in the directory\n",
    "for file in files:\n",
    "    if file.getPath().toString().endswith(\".h5\"):\n",
    "        spark.sparkContext._jvm.org.apache.hadoop.fs.FileSystem.get(\n",
    "            spark.sparkContext._jsc.hadoopConfiguration()\n",
    "        ).delete(file.getPath(), True)\n",
    "\n",
    "print(\"Deleted old model files from HDFS.\")"
   ]
  }
 ],
 "metadata": {
  "language_info": {
   "name": "python"
  }
 },
 "nbformat": 4,
 "nbformat_minor": 2
}
